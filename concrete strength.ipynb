{
 "cells": [
  {
   "cell_type": "code",
   "execution_count": 12,
   "id": "4e9f8aee",
   "metadata": {},
   "outputs": [
    {
     "data": {
      "text/html": [
       "<div>\n",
       "<style scoped>\n",
       "    .dataframe tbody tr th:only-of-type {\n",
       "        vertical-align: middle;\n",
       "    }\n",
       "\n",
       "    .dataframe tbody tr th {\n",
       "        vertical-align: top;\n",
       "    }\n",
       "\n",
       "    .dataframe thead th {\n",
       "        text-align: right;\n",
       "    }\n",
       "</style>\n",
       "<table border=\"1\" class=\"dataframe\">\n",
       "  <thead>\n",
       "    <tr style=\"text-align: right;\">\n",
       "      <th></th>\n",
       "      <th>CementComponent</th>\n",
       "      <th>BlastFurnaceSlag</th>\n",
       "      <th>FlyAshComponent</th>\n",
       "      <th>WaterComponent</th>\n",
       "      <th>SuperplasticizerComponent</th>\n",
       "      <th>CoarseAggregateComponent</th>\n",
       "      <th>FineAggregateComponent</th>\n",
       "      <th>AgeInDays</th>\n",
       "      <th>Strength</th>\n",
       "    </tr>\n",
       "  </thead>\n",
       "  <tbody>\n",
       "    <tr>\n",
       "      <th>0</th>\n",
       "      <td>525.0</td>\n",
       "      <td>0.0</td>\n",
       "      <td>0.0</td>\n",
       "      <td>186.0</td>\n",
       "      <td>0.0</td>\n",
       "      <td>1125.0</td>\n",
       "      <td>613.0</td>\n",
       "      <td>3</td>\n",
       "      <td>10.38</td>\n",
       "    </tr>\n",
       "    <tr>\n",
       "      <th>1</th>\n",
       "      <td>143.0</td>\n",
       "      <td>169.0</td>\n",
       "      <td>143.0</td>\n",
       "      <td>191.0</td>\n",
       "      <td>8.0</td>\n",
       "      <td>967.0</td>\n",
       "      <td>643.0</td>\n",
       "      <td>28</td>\n",
       "      <td>23.52</td>\n",
       "    </tr>\n",
       "    <tr>\n",
       "      <th>2</th>\n",
       "      <td>289.0</td>\n",
       "      <td>134.7</td>\n",
       "      <td>0.0</td>\n",
       "      <td>185.7</td>\n",
       "      <td>0.0</td>\n",
       "      <td>1075.0</td>\n",
       "      <td>795.3</td>\n",
       "      <td>28</td>\n",
       "      <td>36.96</td>\n",
       "    </tr>\n",
       "    <tr>\n",
       "      <th>3</th>\n",
       "      <td>304.0</td>\n",
       "      <td>76.0</td>\n",
       "      <td>0.0</td>\n",
       "      <td>228.0</td>\n",
       "      <td>0.0</td>\n",
       "      <td>932.0</td>\n",
       "      <td>670.0</td>\n",
       "      <td>365</td>\n",
       "      <td>39.05</td>\n",
       "    </tr>\n",
       "    <tr>\n",
       "      <th>4</th>\n",
       "      <td>157.0</td>\n",
       "      <td>236.0</td>\n",
       "      <td>0.0</td>\n",
       "      <td>192.0</td>\n",
       "      <td>0.0</td>\n",
       "      <td>935.4</td>\n",
       "      <td>781.2</td>\n",
       "      <td>90</td>\n",
       "      <td>74.19</td>\n",
       "    </tr>\n",
       "  </tbody>\n",
       "</table>\n",
       "</div>"
      ],
      "text/plain": [
       "   CementComponent  BlastFurnaceSlag  FlyAshComponent  WaterComponent  \\\n",
       "0            525.0               0.0              0.0           186.0   \n",
       "1            143.0             169.0            143.0           191.0   \n",
       "2            289.0             134.7              0.0           185.7   \n",
       "3            304.0              76.0              0.0           228.0   \n",
       "4            157.0             236.0              0.0           192.0   \n",
       "\n",
       "   SuperplasticizerComponent  CoarseAggregateComponent  \\\n",
       "0                        0.0                    1125.0   \n",
       "1                        8.0                     967.0   \n",
       "2                        0.0                    1075.0   \n",
       "3                        0.0                     932.0   \n",
       "4                        0.0                     935.4   \n",
       "\n",
       "   FineAggregateComponent  AgeInDays  Strength  \n",
       "0                   613.0          3     10.38  \n",
       "1                   643.0         28     23.52  \n",
       "2                   795.3         28     36.96  \n",
       "3                   670.0        365     39.05  \n",
       "4                   781.2         90     74.19  "
      ]
     },
     "execution_count": 12,
     "metadata": {},
     "output_type": "execute_result"
    }
   ],
   "source": [
    "import numpy as np\n",
    "import pandas as pd\n",
    "df = pd.read_csv(\"train.csv\")\n",
    "df=df.drop('id',axis=1)\n",
    "df.head()"
   ]
  },
  {
   "cell_type": "code",
   "execution_count": 13,
   "id": "d872e7df",
   "metadata": {},
   "outputs": [
    {
     "name": "stdout",
     "output_type": "stream",
     "text": [
      "<class 'pandas.core.frame.DataFrame'>\n",
      "RangeIndex: 5407 entries, 0 to 5406\n",
      "Data columns (total 9 columns):\n",
      " #   Column                     Non-Null Count  Dtype  \n",
      "---  ------                     --------------  -----  \n",
      " 0   CementComponent            5407 non-null   float64\n",
      " 1   BlastFurnaceSlag           5407 non-null   float64\n",
      " 2   FlyAshComponent            5407 non-null   float64\n",
      " 3   WaterComponent             5407 non-null   float64\n",
      " 4   SuperplasticizerComponent  5407 non-null   float64\n",
      " 5   CoarseAggregateComponent   5407 non-null   float64\n",
      " 6   FineAggregateComponent     5407 non-null   float64\n",
      " 7   AgeInDays                  5407 non-null   int64  \n",
      " 8   Strength                   5407 non-null   float64\n",
      "dtypes: float64(8), int64(1)\n",
      "memory usage: 380.3 KB\n"
     ]
    }
   ],
   "source": [
    "df.info()"
   ]
  },
  {
   "cell_type": "code",
   "execution_count": 14,
   "id": "928c60b5",
   "metadata": {},
   "outputs": [
    {
     "data": {
      "text/html": [
       "<div>\n",
       "<style scoped>\n",
       "    .dataframe tbody tr th:only-of-type {\n",
       "        vertical-align: middle;\n",
       "    }\n",
       "\n",
       "    .dataframe tbody tr th {\n",
       "        vertical-align: top;\n",
       "    }\n",
       "\n",
       "    .dataframe thead th {\n",
       "        text-align: right;\n",
       "    }\n",
       "</style>\n",
       "<table border=\"1\" class=\"dataframe\">\n",
       "  <thead>\n",
       "    <tr style=\"text-align: right;\">\n",
       "      <th></th>\n",
       "      <th>CementComponent</th>\n",
       "      <th>BlastFurnaceSlag</th>\n",
       "      <th>FlyAshComponent</th>\n",
       "      <th>WaterComponent</th>\n",
       "      <th>SuperplasticizerComponent</th>\n",
       "      <th>CoarseAggregateComponent</th>\n",
       "      <th>FineAggregateComponent</th>\n",
       "      <th>AgeInDays</th>\n",
       "      <th>Strength</th>\n",
       "    </tr>\n",
       "  </thead>\n",
       "  <tbody>\n",
       "    <tr>\n",
       "      <th>count</th>\n",
       "      <td>5407.000000</td>\n",
       "      <td>5407.000000</td>\n",
       "      <td>5407.000000</td>\n",
       "      <td>5407.000000</td>\n",
       "      <td>5407.000000</td>\n",
       "      <td>5407.000000</td>\n",
       "      <td>5407.000000</td>\n",
       "      <td>5407.000000</td>\n",
       "      <td>5407.000000</td>\n",
       "    </tr>\n",
       "    <tr>\n",
       "      <th>mean</th>\n",
       "      <td>299.168189</td>\n",
       "      <td>58.610579</td>\n",
       "      <td>31.872795</td>\n",
       "      <td>185.076235</td>\n",
       "      <td>4.108441</td>\n",
       "      <td>992.000718</td>\n",
       "      <td>771.219974</td>\n",
       "      <td>51.751618</td>\n",
       "      <td>35.452071</td>\n",
       "    </tr>\n",
       "    <tr>\n",
       "      <th>std</th>\n",
       "      <td>105.537682</td>\n",
       "      <td>83.417801</td>\n",
       "      <td>54.605003</td>\n",
       "      <td>18.517583</td>\n",
       "      <td>5.692296</td>\n",
       "      <td>77.148010</td>\n",
       "      <td>78.725253</td>\n",
       "      <td>70.006975</td>\n",
       "      <td>16.401896</td>\n",
       "    </tr>\n",
       "    <tr>\n",
       "      <th>min</th>\n",
       "      <td>102.000000</td>\n",
       "      <td>0.000000</td>\n",
       "      <td>0.000000</td>\n",
       "      <td>121.800000</td>\n",
       "      <td>0.000000</td>\n",
       "      <td>801.000000</td>\n",
       "      <td>594.000000</td>\n",
       "      <td>1.000000</td>\n",
       "      <td>2.330000</td>\n",
       "    </tr>\n",
       "    <tr>\n",
       "      <th>25%</th>\n",
       "      <td>213.700000</td>\n",
       "      <td>0.000000</td>\n",
       "      <td>0.000000</td>\n",
       "      <td>175.100000</td>\n",
       "      <td>0.000000</td>\n",
       "      <td>938.200000</td>\n",
       "      <td>734.300000</td>\n",
       "      <td>7.000000</td>\n",
       "      <td>23.640000</td>\n",
       "    </tr>\n",
       "    <tr>\n",
       "      <th>50%</th>\n",
       "      <td>297.200000</td>\n",
       "      <td>0.000000</td>\n",
       "      <td>0.000000</td>\n",
       "      <td>187.400000</td>\n",
       "      <td>0.000000</td>\n",
       "      <td>978.000000</td>\n",
       "      <td>781.200000</td>\n",
       "      <td>28.000000</td>\n",
       "      <td>33.950000</td>\n",
       "    </tr>\n",
       "    <tr>\n",
       "      <th>75%</th>\n",
       "      <td>375.000000</td>\n",
       "      <td>122.600000</td>\n",
       "      <td>79.000000</td>\n",
       "      <td>192.000000</td>\n",
       "      <td>8.050000</td>\n",
       "      <td>1047.000000</td>\n",
       "      <td>821.000000</td>\n",
       "      <td>56.000000</td>\n",
       "      <td>45.850000</td>\n",
       "    </tr>\n",
       "    <tr>\n",
       "      <th>max</th>\n",
       "      <td>540.000000</td>\n",
       "      <td>359.400000</td>\n",
       "      <td>200.100000</td>\n",
       "      <td>247.000000</td>\n",
       "      <td>32.200000</td>\n",
       "      <td>1145.000000</td>\n",
       "      <td>992.600000</td>\n",
       "      <td>365.000000</td>\n",
       "      <td>82.600000</td>\n",
       "    </tr>\n",
       "  </tbody>\n",
       "</table>\n",
       "</div>"
      ],
      "text/plain": [
       "       CementComponent  BlastFurnaceSlag  FlyAshComponent  WaterComponent  \\\n",
       "count      5407.000000       5407.000000      5407.000000     5407.000000   \n",
       "mean        299.168189         58.610579        31.872795      185.076235   \n",
       "std         105.537682         83.417801        54.605003       18.517583   \n",
       "min         102.000000          0.000000         0.000000      121.800000   \n",
       "25%         213.700000          0.000000         0.000000      175.100000   \n",
       "50%         297.200000          0.000000         0.000000      187.400000   \n",
       "75%         375.000000        122.600000        79.000000      192.000000   \n",
       "max         540.000000        359.400000       200.100000      247.000000   \n",
       "\n",
       "       SuperplasticizerComponent  CoarseAggregateComponent  \\\n",
       "count                5407.000000               5407.000000   \n",
       "mean                    4.108441                992.000718   \n",
       "std                     5.692296                 77.148010   \n",
       "min                     0.000000                801.000000   \n",
       "25%                     0.000000                938.200000   \n",
       "50%                     0.000000                978.000000   \n",
       "75%                     8.050000               1047.000000   \n",
       "max                    32.200000               1145.000000   \n",
       "\n",
       "       FineAggregateComponent    AgeInDays     Strength  \n",
       "count             5407.000000  5407.000000  5407.000000  \n",
       "mean               771.219974    51.751618    35.452071  \n",
       "std                 78.725253    70.006975    16.401896  \n",
       "min                594.000000     1.000000     2.330000  \n",
       "25%                734.300000     7.000000    23.640000  \n",
       "50%                781.200000    28.000000    33.950000  \n",
       "75%                821.000000    56.000000    45.850000  \n",
       "max                992.600000   365.000000    82.600000  "
      ]
     },
     "execution_count": 14,
     "metadata": {},
     "output_type": "execute_result"
    }
   ],
   "source": [
    "df.describe()"
   ]
  },
  {
   "cell_type": "code",
   "execution_count": 15,
   "id": "44f59d3f",
   "metadata": {},
   "outputs": [],
   "source": [
    "import seaborn as sns\n",
    "import matplotlib.pyplot as plt "
   ]
  },
  {
   "cell_type": "code",
   "execution_count": 16,
   "id": "3dd5fdec",
   "metadata": {},
   "outputs": [
    {
     "data": {
      "text/plain": [
       "<Axes: >"
      ]
     },
     "execution_count": 16,
     "metadata": {},
     "output_type": "execute_result"
    },
    {
     "data": {
      "image/png": "[encoded data removed]",
      "text/plain": [
       "<Figure size 640x480 with 2 Axes>"
      ]
     },
     "metadata": {},
     "output_type": "display_data"
    }
   ],
   "source": [
    "#import matplotlib inline\n",
    "sns.heatmap(df.corr().tail(1).T,cmap=\"BrBG\",annot=True)\n",
    "###  ageindays is hoghly correated "
   ]
  },
  {
   "cell_type": "code",
   "execution_count": 17,
   "id": "9b8ed8f0",
   "metadata": {},
   "outputs": [
    {
     "data": {
      "text/plain": [
       "365"
      ]
     },
     "execution_count": 17,
     "metadata": {},
     "output_type": "execute_result"
    }
   ],
   "source": [
    "df['AgeInDays'].max()"
   ]
  },
  {
   "cell_type": "code",
   "execution_count": 18,
   "id": "dc78c9b5",
   "metadata": {},
   "outputs": [
    {
     "data": {
      "text/plain": [
       "5407"
      ]
     },
     "execution_count": 18,
     "metadata": {},
     "output_type": "execute_result"
    }
   ],
   "source": [
    "len(df['FlyAshComponent'])"
   ]
  },
  {
   "cell_type": "code",
   "execution_count": 19,
   "id": "f6cf8030",
   "metadata": {},
   "outputs": [
    {
     "data": {
      "text/plain": [
       "(3143, 3927, 3166)"
      ]
     },
     "execution_count": 19,
     "metadata": {},
     "output_type": "execute_result"
    }
   ],
   "source": [
    "len(df[df['SuperplasticizerComponent']==0]), len(df[df['FlyAshComponent']==0]),len(df[df['BlastFurnaceSlag']==0])"
   ]
  },
  {
   "cell_type": "code",
   "execution_count": 20,
   "id": "d5bf1186",
   "metadata": {},
   "outputs": [
    {
     "data": {
      "text/plain": [
       "(58.55372665063806, 58.13445533567597, 72.6280747179582)"
      ]
     },
     "execution_count": 20,
     "metadata": {},
     "output_type": "execute_result"
    }
   ],
   "source": [
    "(3166/5407)*100, 314333/5407,392700/5407"
   ]
  },
  {
   "cell_type": "code",
   "execution_count": 21,
   "id": "02e10954",
   "metadata": {},
   "outputs": [
    {
     "data": {
      "text/plain": [
       "Index(['CementComponent', 'BlastFurnaceSlag', 'FlyAshComponent',\n",
       "       'WaterComponent', 'SuperplasticizerComponent',\n",
       "       'CoarseAggregateComponent', 'FineAggregateComponent', 'AgeInDays',\n",
       "       'Strength'],\n",
       "      dtype='object')"
      ]
     },
     "execution_count": 21,
     "metadata": {},
     "output_type": "execute_result"
    }
   ],
   "source": [
    "df.columns"
   ]
  },
  {
   "cell_type": "code",
   "execution_count": 22,
   "id": "de7c2493",
   "metadata": {},
   "outputs": [],
   "source": [
    "dt0 =df[['CementComponent','CoarseAggregateComponent','AgeInDays','Strength','BlastFurnaceSlag']]"
   ]
  },
  {
   "cell_type": "code",
   "execution_count": 23,
   "id": "79789349",
   "metadata": {},
   "outputs": [
    {
     "data": {
      "text/html": [
       "<div>\n",
       "<style scoped>\n",
       "    .dataframe tbody tr th:only-of-type {\n",
       "        vertical-align: middle;\n",
       "    }\n",
       "\n",
       "    .dataframe tbody tr th {\n",
       "        vertical-align: top;\n",
       "    }\n",
       "\n",
       "    .dataframe thead th {\n",
       "        text-align: right;\n",
       "    }\n",
       "</style>\n",
       "<table border=\"1\" class=\"dataframe\">\n",
       "  <thead>\n",
       "    <tr style=\"text-align: right;\">\n",
       "      <th></th>\n",
       "      <th>CementComponent</th>\n",
       "      <th>CoarseAggregateComponent</th>\n",
       "      <th>AgeInDays</th>\n",
       "      <th>Strength</th>\n",
       "      <th>BlastFurnaceSlag</th>\n",
       "    </tr>\n",
       "  </thead>\n",
       "  <tbody>\n",
       "    <tr>\n",
       "      <th>0</th>\n",
       "      <td>525.0</td>\n",
       "      <td>1125.0</td>\n",
       "      <td>3</td>\n",
       "      <td>10.38</td>\n",
       "      <td>0.0</td>\n",
       "    </tr>\n",
       "    <tr>\n",
       "      <th>1</th>\n",
       "      <td>143.0</td>\n",
       "      <td>967.0</td>\n",
       "      <td>28</td>\n",
       "      <td>23.52</td>\n",
       "      <td>169.0</td>\n",
       "    </tr>\n",
       "    <tr>\n",
       "      <th>2</th>\n",
       "      <td>289.0</td>\n",
       "      <td>1075.0</td>\n",
       "      <td>28</td>\n",
       "      <td>36.96</td>\n",
       "      <td>134.7</td>\n",
       "    </tr>\n",
       "    <tr>\n",
       "      <th>3</th>\n",
       "      <td>304.0</td>\n",
       "      <td>932.0</td>\n",
       "      <td>365</td>\n",
       "      <td>39.05</td>\n",
       "      <td>76.0</td>\n",
       "    </tr>\n",
       "    <tr>\n",
       "      <th>4</th>\n",
       "      <td>157.0</td>\n",
       "      <td>935.4</td>\n",
       "      <td>90</td>\n",
       "      <td>74.19</td>\n",
       "      <td>236.0</td>\n",
       "    </tr>\n",
       "    <tr>\n",
       "      <th>5</th>\n",
       "      <td>350.0</td>\n",
       "      <td>1055.0</td>\n",
       "      <td>7</td>\n",
       "      <td>37.43</td>\n",
       "      <td>0.0</td>\n",
       "    </tr>\n",
       "    <tr>\n",
       "      <th>6</th>\n",
       "      <td>135.7</td>\n",
       "      <td>1076.2</td>\n",
       "      <td>28</td>\n",
       "      <td>35.10</td>\n",
       "      <td>203.5</td>\n",
       "    </tr>\n",
       "    <tr>\n",
       "      <th>7</th>\n",
       "      <td>332.5</td>\n",
       "      <td>932.0</td>\n",
       "      <td>28</td>\n",
       "      <td>45.94</td>\n",
       "      <td>142.5</td>\n",
       "    </tr>\n",
       "    <tr>\n",
       "      <th>8</th>\n",
       "      <td>322.0</td>\n",
       "      <td>974.0</td>\n",
       "      <td>180</td>\n",
       "      <td>42.14</td>\n",
       "      <td>0.0</td>\n",
       "    </tr>\n",
       "    <tr>\n",
       "      <th>9</th>\n",
       "      <td>133.0</td>\n",
       "      <td>927.4</td>\n",
       "      <td>3</td>\n",
       "      <td>6.94</td>\n",
       "      <td>200.0</td>\n",
       "    </tr>\n",
       "  </tbody>\n",
       "</table>\n",
       "</div>"
      ],
      "text/plain": [
       "   CementComponent  CoarseAggregateComponent  AgeInDays  Strength  \\\n",
       "0            525.0                    1125.0          3     10.38   \n",
       "1            143.0                     967.0         28     23.52   \n",
       "2            289.0                    1075.0         28     36.96   \n",
       "3            304.0                     932.0        365     39.05   \n",
       "4            157.0                     935.4         90     74.19   \n",
       "5            350.0                    1055.0          7     37.43   \n",
       "6            135.7                    1076.2         28     35.10   \n",
       "7            332.5                     932.0         28     45.94   \n",
       "8            322.0                     974.0        180     42.14   \n",
       "9            133.0                     927.4          3      6.94   \n",
       "\n",
       "   BlastFurnaceSlag  \n",
       "0               0.0  \n",
       "1             169.0  \n",
       "2             134.7  \n",
       "3              76.0  \n",
       "4             236.0  \n",
       "5               0.0  \n",
       "6             203.5  \n",
       "7             142.5  \n",
       "8               0.0  \n",
       "9             200.0  "
      ]
     },
     "execution_count": 23,
     "metadata": {},
     "output_type": "execute_result"
    }
   ],
   "source": [
    "dt0.head(10)"
   ]
  },
  {
   "cell_type": "code",
   "execution_count": 24,
   "id": "95027ba9",
   "metadata": {},
   "outputs": [
    {
     "data": {
      "text/plain": [
       "<Axes: >"
      ]
     },
     "execution_count": 24,
     "metadata": {},
     "output_type": "execute_result"
    },
    {
     "data": {
      "image/png": "[encoded data removed]",
      "text/plain": [
       "<Figure size 640x480 with 2 Axes>"
      ]
     },
     "metadata": {},
     "output_type": "display_data"
    }
   ],
   "source": [
    "\n",
    "sns.heatmap(dt0.corr().tail(1).T,cmap=\"BrBG\",annot=True)"
   ]
  },
  {
   "cell_type": "code",
   "execution_count": 25,
   "id": "58f8990a",
   "metadata": {},
   "outputs": [],
   "source": [
    "from sklearn.impute import KNNImputer\n",
    "imputer = KNNImputer(n_neighbors=2)\n"
   ]
  },
  {
   "cell_type": "code",
   "execution_count": 26,
   "id": "fd303096",
   "metadata": {},
   "outputs": [],
   "source": [
    "d1= imputer.fit_transform(dt0)\n",
    "dt1=pd.DataFrame(d1,columns=dt0.columns)"
   ]
  },
  {
   "cell_type": "code",
   "execution_count": 27,
   "id": "b4a2fc12",
   "metadata": {},
   "outputs": [
    {
     "data": {
      "text/html": [
       "<div>\n",
       "<style scoped>\n",
       "    .dataframe tbody tr th:only-of-type {\n",
       "        vertical-align: middle;\n",
       "    }\n",
       "\n",
       "    .dataframe tbody tr th {\n",
       "        vertical-align: top;\n",
       "    }\n",
       "\n",
       "    .dataframe thead th {\n",
       "        text-align: right;\n",
       "    }\n",
       "</style>\n",
       "<table border=\"1\" class=\"dataframe\">\n",
       "  <thead>\n",
       "    <tr style=\"text-align: right;\">\n",
       "      <th></th>\n",
       "      <th>CementComponent</th>\n",
       "      <th>CoarseAggregateComponent</th>\n",
       "      <th>AgeInDays</th>\n",
       "      <th>Strength</th>\n",
       "      <th>BlastFurnaceSlag</th>\n",
       "    </tr>\n",
       "  </thead>\n",
       "  <tbody>\n",
       "    <tr>\n",
       "      <th>0</th>\n",
       "      <td>525.0</td>\n",
       "      <td>1125.0</td>\n",
       "      <td>3.0</td>\n",
       "      <td>10.38</td>\n",
       "      <td>0.0</td>\n",
       "    </tr>\n",
       "    <tr>\n",
       "      <th>1</th>\n",
       "      <td>143.0</td>\n",
       "      <td>967.0</td>\n",
       "      <td>28.0</td>\n",
       "      <td>23.52</td>\n",
       "      <td>169.0</td>\n",
       "    </tr>\n",
       "    <tr>\n",
       "      <th>2</th>\n",
       "      <td>289.0</td>\n",
       "      <td>1075.0</td>\n",
       "      <td>28.0</td>\n",
       "      <td>36.96</td>\n",
       "      <td>134.7</td>\n",
       "    </tr>\n",
       "    <tr>\n",
       "      <th>3</th>\n",
       "      <td>304.0</td>\n",
       "      <td>932.0</td>\n",
       "      <td>365.0</td>\n",
       "      <td>39.05</td>\n",
       "      <td>76.0</td>\n",
       "    </tr>\n",
       "    <tr>\n",
       "      <th>4</th>\n",
       "      <td>157.0</td>\n",
       "      <td>935.4</td>\n",
       "      <td>90.0</td>\n",
       "      <td>74.19</td>\n",
       "      <td>236.0</td>\n",
       "    </tr>\n",
       "    <tr>\n",
       "      <th>...</th>\n",
       "      <td>...</td>\n",
       "      <td>...</td>\n",
       "      <td>...</td>\n",
       "      <td>...</td>\n",
       "      <td>...</td>\n",
       "    </tr>\n",
       "    <tr>\n",
       "      <th>5402</th>\n",
       "      <td>446.0</td>\n",
       "      <td>967.0</td>\n",
       "      <td>3.0</td>\n",
       "      <td>15.42</td>\n",
       "      <td>24.0</td>\n",
       "    </tr>\n",
       "    <tr>\n",
       "      <th>5403</th>\n",
       "      <td>350.0</td>\n",
       "      <td>974.0</td>\n",
       "      <td>180.0</td>\n",
       "      <td>49.20</td>\n",
       "      <td>0.0</td>\n",
       "    </tr>\n",
       "    <tr>\n",
       "      <th>5404</th>\n",
       "      <td>295.8</td>\n",
       "      <td>1076.2</td>\n",
       "      <td>28.0</td>\n",
       "      <td>39.30</td>\n",
       "      <td>0.0</td>\n",
       "    </tr>\n",
       "    <tr>\n",
       "      <th>5405</th>\n",
       "      <td>376.0</td>\n",
       "      <td>955.8</td>\n",
       "      <td>28.0</td>\n",
       "      <td>39.61</td>\n",
       "      <td>93.4</td>\n",
       "    </tr>\n",
       "    <tr>\n",
       "      <th>5406</th>\n",
       "      <td>190.7</td>\n",
       "      <td>1079.0</td>\n",
       "      <td>56.0</td>\n",
       "      <td>63.14</td>\n",
       "      <td>0.0</td>\n",
       "    </tr>\n",
       "  </tbody>\n",
       "</table>\n",
       "<p>5407 rows × 5 columns</p>\n",
       "</div>"
      ],
      "text/plain": [
       "      CementComponent  CoarseAggregateComponent  AgeInDays  Strength  \\\n",
       "0               525.0                    1125.0        3.0     10.38   \n",
       "1               143.0                     967.0       28.0     23.52   \n",
       "2               289.0                    1075.0       28.0     36.96   \n",
       "3               304.0                     932.0      365.0     39.05   \n",
       "4               157.0                     935.4       90.0     74.19   \n",
       "...               ...                       ...        ...       ...   \n",
       "5402            446.0                     967.0        3.0     15.42   \n",
       "5403            350.0                     974.0      180.0     49.20   \n",
       "5404            295.8                    1076.2       28.0     39.30   \n",
       "5405            376.0                     955.8       28.0     39.61   \n",
       "5406            190.7                    1079.0       56.0     63.14   \n",
       "\n",
       "      BlastFurnaceSlag  \n",
       "0                  0.0  \n",
       "1                169.0  \n",
       "2                134.7  \n",
       "3                 76.0  \n",
       "4                236.0  \n",
       "...                ...  \n",
       "5402              24.0  \n",
       "5403               0.0  \n",
       "5404               0.0  \n",
       "5405              93.4  \n",
       "5406               0.0  \n",
       "\n",
       "[5407 rows x 5 columns]"
      ]
     },
     "execution_count": 27,
     "metadata": {},
     "output_type": "execute_result"
    }
   ],
   "source": [
    "dt1"
   ]
  },
  {
   "cell_type": "code",
   "execution_count": 28,
   "id": "1dfd6dcb",
   "metadata": {},
   "outputs": [],
   "source": [
    "from sklearn.experimental import enable_iterative_imputer\n",
    "from sklearn.impute import IterativeImputer"
   ]
  },
  {
   "cell_type": "code",
   "execution_count": 29,
   "id": "7324decd",
   "metadata": {},
   "outputs": [
    {
     "name": "stderr",
     "output_type": "stream",
     "text": [
      "/home/ubuntu/anaconda3/lib/python3.11/site-packages/sklearn/impute/_iterative.py:785: ConvergenceWarning: [IterativeImputer] Early stopping criterion not reached.\n",
      "  warnings.warn(\n"
     ]
    }
   ],
   "source": [
    "imputer2= IterativeImputer(max_iter=20,missing_values=0.0,n_nearest_features=3)\n",
    "dt2=imputer2.fit_transform(df)"
   ]
  },
  {
   "cell_type": "code",
   "execution_count": 30,
   "id": "a380d0bd",
   "metadata": {},
   "outputs": [],
   "source": [
    "dt2= pd.DataFrame(dt2,columns=df.columns)"
   ]
  },
  {
   "cell_type": "code",
   "execution_count": 31,
   "id": "25780fd5",
   "metadata": {},
   "outputs": [
    {
     "data": {
      "text/html": [
       "<div>\n",
       "<style scoped>\n",
       "    .dataframe tbody tr th:only-of-type {\n",
       "        vertical-align: middle;\n",
       "    }\n",
       "\n",
       "    .dataframe tbody tr th {\n",
       "        vertical-align: top;\n",
       "    }\n",
       "\n",
       "    .dataframe thead th {\n",
       "        text-align: right;\n",
       "    }\n",
       "</style>\n",
       "<table border=\"1\" class=\"dataframe\">\n",
       "  <thead>\n",
       "    <tr style=\"text-align: right;\">\n",
       "      <th></th>\n",
       "      <th>CementComponent</th>\n",
       "      <th>BlastFurnaceSlag</th>\n",
       "      <th>FlyAshComponent</th>\n",
       "      <th>WaterComponent</th>\n",
       "      <th>SuperplasticizerComponent</th>\n",
       "      <th>CoarseAggregateComponent</th>\n",
       "      <th>FineAggregateComponent</th>\n",
       "      <th>AgeInDays</th>\n",
       "      <th>Strength</th>\n",
       "    </tr>\n",
       "  </thead>\n",
       "  <tbody>\n",
       "    <tr>\n",
       "      <th>0</th>\n",
       "      <td>525.0</td>\n",
       "      <td>81.860184</td>\n",
       "      <td>74.522102</td>\n",
       "      <td>186.0</td>\n",
       "      <td>4.758320</td>\n",
       "      <td>1125.0</td>\n",
       "      <td>613.0</td>\n",
       "      <td>3.0</td>\n",
       "      <td>10.38</td>\n",
       "    </tr>\n",
       "    <tr>\n",
       "      <th>1</th>\n",
       "      <td>143.0</td>\n",
       "      <td>169.000000</td>\n",
       "      <td>143.000000</td>\n",
       "      <td>191.0</td>\n",
       "      <td>8.000000</td>\n",
       "      <td>967.0</td>\n",
       "      <td>643.0</td>\n",
       "      <td>28.0</td>\n",
       "      <td>23.52</td>\n",
       "    </tr>\n",
       "    <tr>\n",
       "      <th>2</th>\n",
       "      <td>289.0</td>\n",
       "      <td>134.700000</td>\n",
       "      <td>107.906032</td>\n",
       "      <td>185.7</td>\n",
       "      <td>6.067810</td>\n",
       "      <td>1075.0</td>\n",
       "      <td>795.3</td>\n",
       "      <td>28.0</td>\n",
       "      <td>36.96</td>\n",
       "    </tr>\n",
       "    <tr>\n",
       "      <th>3</th>\n",
       "      <td>304.0</td>\n",
       "      <td>76.000000</td>\n",
       "      <td>125.875883</td>\n",
       "      <td>228.0</td>\n",
       "      <td>1.995191</td>\n",
       "      <td>932.0</td>\n",
       "      <td>670.0</td>\n",
       "      <td>365.0</td>\n",
       "      <td>39.05</td>\n",
       "    </tr>\n",
       "    <tr>\n",
       "      <th>4</th>\n",
       "      <td>157.0</td>\n",
       "      <td>236.000000</td>\n",
       "      <td>132.871347</td>\n",
       "      <td>192.0</td>\n",
       "      <td>8.266520</td>\n",
       "      <td>935.4</td>\n",
       "      <td>781.2</td>\n",
       "      <td>90.0</td>\n",
       "      <td>74.19</td>\n",
       "    </tr>\n",
       "    <tr>\n",
       "      <th>...</th>\n",
       "      <td>...</td>\n",
       "      <td>...</td>\n",
       "      <td>...</td>\n",
       "      <td>...</td>\n",
       "      <td>...</td>\n",
       "      <td>...</td>\n",
       "      <td>...</td>\n",
       "      <td>...</td>\n",
       "      <td>...</td>\n",
       "    </tr>\n",
       "    <tr>\n",
       "      <th>5402</th>\n",
       "      <td>446.0</td>\n",
       "      <td>24.000000</td>\n",
       "      <td>79.000000</td>\n",
       "      <td>162.0</td>\n",
       "      <td>11.600000</td>\n",
       "      <td>967.0</td>\n",
       "      <td>712.0</td>\n",
       "      <td>3.0</td>\n",
       "      <td>15.42</td>\n",
       "    </tr>\n",
       "    <tr>\n",
       "      <th>5403</th>\n",
       "      <td>350.0</td>\n",
       "      <td>115.904228</td>\n",
       "      <td>110.404269</td>\n",
       "      <td>203.0</td>\n",
       "      <td>5.261638</td>\n",
       "      <td>974.0</td>\n",
       "      <td>775.0</td>\n",
       "      <td>180.0</td>\n",
       "      <td>49.20</td>\n",
       "    </tr>\n",
       "    <tr>\n",
       "      <th>5404</th>\n",
       "      <td>295.8</td>\n",
       "      <td>136.850101</td>\n",
       "      <td>106.984203</td>\n",
       "      <td>185.7</td>\n",
       "      <td>6.044926</td>\n",
       "      <td>1076.2</td>\n",
       "      <td>759.3</td>\n",
       "      <td>28.0</td>\n",
       "      <td>39.30</td>\n",
       "    </tr>\n",
       "    <tr>\n",
       "      <th>5405</th>\n",
       "      <td>376.0</td>\n",
       "      <td>93.400000</td>\n",
       "      <td>101.209226</td>\n",
       "      <td>162.6</td>\n",
       "      <td>11.500000</td>\n",
       "      <td>955.8</td>\n",
       "      <td>662.9</td>\n",
       "      <td>28.0</td>\n",
       "      <td>39.61</td>\n",
       "    </tr>\n",
       "    <tr>\n",
       "      <th>5406</th>\n",
       "      <td>190.7</td>\n",
       "      <td>151.770812</td>\n",
       "      <td>125.200000</td>\n",
       "      <td>166.6</td>\n",
       "      <td>7.900000</td>\n",
       "      <td>1079.0</td>\n",
       "      <td>770.1</td>\n",
       "      <td>56.0</td>\n",
       "      <td>63.14</td>\n",
       "    </tr>\n",
       "  </tbody>\n",
       "</table>\n",
       "<p>5407 rows × 9 columns</p>\n",
       "</div>"
      ],
      "text/plain": [
       "      CementComponent  BlastFurnaceSlag  FlyAshComponent  WaterComponent  \\\n",
       "0               525.0         81.860184        74.522102           186.0   \n",
       "1               143.0        169.000000       143.000000           191.0   \n",
       "2               289.0        134.700000       107.906032           185.7   \n",
       "3               304.0         76.000000       125.875883           228.0   \n",
       "4               157.0        236.000000       132.871347           192.0   \n",
       "...               ...               ...              ...             ...   \n",
       "5402            446.0         24.000000        79.000000           162.0   \n",
       "5403            350.0        115.904228       110.404269           203.0   \n",
       "5404            295.8        136.850101       106.984203           185.7   \n",
       "5405            376.0         93.400000       101.209226           162.6   \n",
       "5406            190.7        151.770812       125.200000           166.6   \n",
       "\n",
       "      SuperplasticizerComponent  CoarseAggregateComponent  \\\n",
       "0                      4.758320                    1125.0   \n",
       "1                      8.000000                     967.0   \n",
       "2                      6.067810                    1075.0   \n",
       "3                      1.995191                     932.0   \n",
       "4                      8.266520                     935.4   \n",
       "...                         ...                       ...   \n",
       "5402                  11.600000                     967.0   \n",
       "5403                   5.261638                     974.0   \n",
       "5404                   6.044926                    1076.2   \n",
       "5405                  11.500000                     955.8   \n",
       "5406                   7.900000                    1079.0   \n",
       "\n",
       "      FineAggregateComponent  AgeInDays  Strength  \n",
       "0                      613.0        3.0     10.38  \n",
       "1                      643.0       28.0     23.52  \n",
       "2                      795.3       28.0     36.96  \n",
       "3                      670.0      365.0     39.05  \n",
       "4                      781.2       90.0     74.19  \n",
       "...                      ...        ...       ...  \n",
       "5402                   712.0        3.0     15.42  \n",
       "5403                   775.0      180.0     49.20  \n",
       "5404                   759.3       28.0     39.30  \n",
       "5405                   662.9       28.0     39.61  \n",
       "5406                   770.1       56.0     63.14  \n",
       "\n",
       "[5407 rows x 9 columns]"
      ]
     },
     "execution_count": 31,
     "metadata": {},
     "output_type": "execute_result"
    }
   ],
   "source": [
    "dt2"
   ]
  },
  {
   "cell_type": "code",
   "execution_count": 32,
   "id": "d30818b4",
   "metadata": {},
   "outputs": [
    {
     "data": {
      "text/plain": [
       "(0, 0, 0)"
      ]
     },
     "execution_count": 32,
     "metadata": {},
     "output_type": "execute_result"
    }
   ],
   "source": [
    "len(dt2[dt2['SuperplasticizerComponent']==0]), len(dt2[dt2['FlyAshComponent']==0]),len(dt2[dt2['BlastFurnaceSlag']==0])"
   ]
  },
  {
   "cell_type": "code",
   "execution_count": 39,
   "id": "12b23c9e",
   "metadata": {},
   "outputs": [],
   "source": [
    "from sklearn.ensemble import RandomForestRegressor\n",
    "from sklearn.svm import SVR\n",
    "from sklearn.model_selection import GridSearchCV\n",
    "from sklearn.model_selection import cross_val_score\n",
    "from sklearn import set_config\n",
    "from sklearn.metrics import mean_squared_error\n",
    "from sklearn.compose import ColumnTransformer"
   ]
  },
  {
   "cell_type": "code",
   "execution_count": 33,
   "id": "875d52d5",
   "metadata": {},
   "outputs": [],
   "source": [
    "def outliers(data):\n",
    "    for col in data.columns:\n",
    "        q1 = np.quantile(data[columns],0.25)\n",
    "        q3 = np.quantile(data[columns],0.75)\n",
    "        iqr = q3 - q1\n",
    "        \n",
    "        lower_bound = q1 - (iqr * 1.5)\n",
    "        upper_bound = q3 + (iqr * 1.5)"
   ]
  },
  {
   "cell_type": "code",
   "execution_count": 34,
   "id": "1f17ee99",
   "metadata": {},
   "outputs": [],
   "source": [
    "from sklearn.model_selection import train_test_split\n",
    "xtrain,xtest,ytrain,ytest = train_test_split(dt2.drop('Strength',axis=1),dt2['Strength'],test_size=0.2,random_state=42)"
   ]
  },
  {
   "cell_type": "code",
   "execution_count": 36,
   "id": "e6e976c0",
   "metadata": {},
   "outputs": [],
   "source": [
    "from sklearn.preprocessing import StandardScaler\n",
    "scaler = StandardScaler()\n",
    "scaled_data = scaler.fit_transform(xtrain)"
   ]
  },
  {
   "cell_type": "code",
   "execution_count": 37,
   "id": "355c36cf",
   "metadata": {},
   "outputs": [],
   "source": [
    "xdata=pd.DataFrame(scaled_data,columns=xtrain.columns)"
   ]
  },
  {
   "cell_type": "code",
   "execution_count": 41,
   "id": "7236b432",
   "metadata": {},
   "outputs": [
    {
     "name": "stdout",
     "output_type": "stream",
     "text": [
      "[11.90632934 12.19477951 12.15681795 12.09435807 10.86781628 12.28626321\n",
      " 11.54312539 11.79970534 12.92633418 11.82483747]\n"
     ]
    }
   ],
   "source": [
    "forest_model = RandomForestRegressor()\n",
    "forest_model.fit(xdata,ytrain)\n",
    "forest_scores = cross_val_score(forest_model, xdata, ytrain, scoring=\"neg_mean_squared_error\", cv=10)\n",
    "print(np.sqrt(-forest_scores))"
   ]
  },
  {
   "cell_type": "code",
   "execution_count": 43,
   "id": "cf7ce6d8",
   "metadata": {},
   "outputs": [],
   "source": [
    "param_grid = [\n",
    "    {\"n_estimators\": [10, 30, 60, 80], \"max_features\": [8, 12, 20]},\n",
    "    {\"bootstrap\": [False], \"n_estimators\": [10, 30, 50], \"max_features\": [8, 12]}\n",
    "]\n"
   ]
  },
  {
   "cell_type": "code",
   "execution_count": 44,
   "id": "5a044621",
   "metadata": {},
   "outputs": [],
   "source": [
    "grid_search = GridSearchCV(forest_model, param_grid, cv=5, scoring='neg_mean_squared_error',\n",
    "                          return_train_score=True)"
   ]
  },
  {
   "cell_type": "code",
   "execution_count": 45,
   "id": "2f01b841",
   "metadata": {},
   "outputs": [
    {
     "data": {
      "text/html": [
       "<style>#sk-container-id-1 {color: black;background-color: white;}#sk-container-id-1 pre{padding: 0;}#sk-container-id-1 div.sk-toggleable {background-color: white;}#sk-container-id-1 label.sk-toggleable__label {cursor: pointer;display: block;width: 100%;margin-bottom: 0;padding: 0.3em;box-sizing: border-box;text-align: center;}#sk-container-id-1 label.sk-toggleable__label-arrow:before {content: \"▸\";float: left;margin-right: 0.25em;color: #696969;}#sk-container-id-1 label.sk-toggleable__label-arrow:hover:before {color: black;}#sk-container-id-1 div.sk-estimator:hover label.sk-toggleable__label-arrow:before {color: black;}#sk-container-id-1 div.sk-toggleable__content {max-height: 0;max-width: 0;overflow: hidden;text-align: left;background-color: #f0f8ff;}#sk-container-id-1 div.sk-toggleable__content pre {margin: 0.2em;color: black;border-radius: 0.25em;background-color: #f0f8ff;}#sk-container-id-1 input.sk-toggleable__control:checked~div.sk-toggleable__content {max-height: 200px;max-width: 100%;overflow: auto;}#sk-container-id-1 input.sk-toggleable__control:checked~label.sk-toggleable__label-arrow:before {content: \"▾\";}#sk-container-id-1 div.sk-estimator input.sk-toggleable__control:checked~label.sk-toggleable__label {background-color: #d4ebff;}#sk-container-id-1 div.sk-label input.sk-toggleable__control:checked~label.sk-toggleable__label {background-color: #d4ebff;}#sk-container-id-1 input.sk-hidden--visually {border: 0;clip: rect(1px 1px 1px 1px);clip: rect(1px, 1px, 1px, 1px);height: 1px;margin: -1px;overflow: hidden;padding: 0;position: absolute;width: 1px;}#sk-container-id-1 div.sk-estimator {font-family: monospace;background-color: #f0f8ff;border: 1px dotted black;border-radius: 0.25em;box-sizing: border-box;margin-bottom: 0.5em;}#sk-container-id-1 div.sk-estimator:hover {background-color: #d4ebff;}#sk-container-id-1 div.sk-parallel-item::after {content: \"\";width: 100%;border-bottom: 1px solid gray;flex-grow: 1;}#sk-container-id-1 div.sk-label:hover label.sk-toggleable__label {background-color: #d4ebff;}#sk-container-id-1 div.sk-serial::before {content: \"\";position: absolute;border-left: 1px solid gray;box-sizing: border-box;top: 0;bottom: 0;left: 50%;z-index: 0;}#sk-container-id-1 div.sk-serial {display: flex;flex-direction: column;align-items: center;background-color: white;padding-right: 0.2em;padding-left: 0.2em;position: relative;}#sk-container-id-1 div.sk-item {position: relative;z-index: 1;}#sk-container-id-1 div.sk-parallel {display: flex;align-items: stretch;justify-content: center;background-color: white;position: relative;}#sk-container-id-1 div.sk-item::before, #sk-container-id-1 div.sk-parallel-item::before {content: \"\";position: absolute;border-left: 1px solid gray;box-sizing: border-box;top: 0;bottom: 0;left: 50%;z-index: -1;}#sk-container-id-1 div.sk-parallel-item {display: flex;flex-direction: column;z-index: 1;position: relative;background-color: white;}#sk-container-id-1 div.sk-parallel-item:first-child::after {align-self: flex-end;width: 50%;}#sk-container-id-1 div.sk-parallel-item:last-child::after {align-self: flex-start;width: 50%;}#sk-container-id-1 div.sk-parallel-item:only-child::after {width: 0;}#sk-container-id-1 div.sk-dashed-wrapped {border: 1px dashed gray;margin: 0 0.4em 0.5em 0.4em;box-sizing: border-box;padding-bottom: 0.4em;background-color: white;}#sk-container-id-1 div.sk-label label {font-family: monospace;font-weight: bold;display: inline-block;line-height: 1.2em;}#sk-container-id-1 div.sk-label-container {text-align: center;}#sk-container-id-1 div.sk-container {/* jupyter's `normalize.less` sets `[hidden] { display: none; }` but bootstrap.min.css set `[hidden] { display: none !important; }` so we also need the `!important` here to be able to override the default hidden behavior on the sphinx rendered scikit-learn.org. See: https://github.com/scikit-learn/scikit-learn/issues/21755 */display: inline-block !important;position: relative;}#sk-container-id-1 div.sk-text-repr-fallback {display: none;}</style><div id=\"sk-container-id-1\" class=\"sk-top-container\"><div class=\"sk-text-repr-fallback\"><pre>GridSearchCV(cv=5, estimator=RandomForestRegressor(),\n",
       "             param_grid=[{&#x27;max_features&#x27;: [8, 12, 20],\n",
       "                          &#x27;n_estimators&#x27;: [10, 30, 60, 80]},\n",
       "                         {&#x27;bootstrap&#x27;: [False], &#x27;max_features&#x27;: [8, 12],\n",
       "                          &#x27;n_estimators&#x27;: [10, 30, 50]}],\n",
       "             return_train_score=True, scoring=&#x27;neg_mean_squared_error&#x27;)</pre><b>In a Jupyter environment, please rerun this cell to show the HTML representation or trust the notebook. <br />On GitHub, the HTML representation is unable to render, please try loading this page with nbviewer.org.</b></div><div class=\"sk-container\" hidden><div class=\"sk-item sk-dashed-wrapped\"><div class=\"sk-label-container\"><div class=\"sk-label sk-toggleable\"><input class=\"sk-toggleable__control sk-hidden--visually\" id=\"sk-estimator-id-1\" type=\"checkbox\" ><label for=\"sk-estimator-id-1\" class=\"sk-toggleable__label sk-toggleable__label-arrow\">GridSearchCV</label><div class=\"sk-toggleable__content\"><pre>GridSearchCV(cv=5, estimator=RandomForestRegressor(),\n",
       "             param_grid=[{&#x27;max_features&#x27;: [8, 12, 20],\n",
       "                          &#x27;n_estimators&#x27;: [10, 30, 60, 80]},\n",
       "                         {&#x27;bootstrap&#x27;: [False], &#x27;max_features&#x27;: [8, 12],\n",
       "                          &#x27;n_estimators&#x27;: [10, 30, 50]}],\n",
       "             return_train_score=True, scoring=&#x27;neg_mean_squared_error&#x27;)</pre></div></div></div><div class=\"sk-parallel\"><div class=\"sk-parallel-item\"><div class=\"sk-item\"><div class=\"sk-label-container\"><div class=\"sk-label sk-toggleable\"><input class=\"sk-toggleable__control sk-hidden--visually\" id=\"sk-estimator-id-2\" type=\"checkbox\" ><label for=\"sk-estimator-id-2\" class=\"sk-toggleable__label sk-toggleable__label-arrow\">estimator: RandomForestRegressor</label><div class=\"sk-toggleable__content\"><pre>RandomForestRegressor()</pre></div></div></div><div class=\"sk-serial\"><div class=\"sk-item\"><div class=\"sk-estimator sk-toggleable\"><input class=\"sk-toggleable__control sk-hidden--visually\" id=\"sk-estimator-id-3\" type=\"checkbox\" ><label for=\"sk-estimator-id-3\" class=\"sk-toggleable__label sk-toggleable__label-arrow\">RandomForestRegressor</label><div class=\"sk-toggleable__content\"><pre>RandomForestRegressor()</pre></div></div></div></div></div></div></div></div></div></div>"
      ],
      "text/plain": [
       "GridSearchCV(cv=5, estimator=RandomForestRegressor(),\n",
       "             param_grid=[{'max_features': [8, 12, 20],\n",
       "                          'n_estimators': [10, 30, 60, 80]},\n",
       "                         {'bootstrap': [False], 'max_features': [8, 12],\n",
       "                          'n_estimators': [10, 30, 50]}],\n",
       "             return_train_score=True, scoring='neg_mean_squared_error')"
      ]
     },
     "execution_count": 45,
     "metadata": {},
     "output_type": "execute_result"
    }
   ],
   "source": [
    "grid_search.fit(xdata, ytrain)"
   ]
  },
  {
   "cell_type": "code",
   "execution_count": 46,
   "id": "c7ec631d",
   "metadata": {},
   "outputs": [
    {
     "data": {
      "text/plain": [
       "{'max_features': 12, 'n_estimators': 80}"
      ]
     },
     "execution_count": 46,
     "metadata": {},
     "output_type": "execute_result"
    }
   ],
   "source": [
    "grid_search.best_params_"
   ]
  },
  {
   "cell_type": "code",
   "execution_count": 47,
   "id": "fde09bab",
   "metadata": {},
   "outputs": [],
   "source": [
    "model = grid_search.best_estimator_"
   ]
  },
  {
   "cell_type": "code",
   "execution_count": 48,
   "id": "5f57007d",
   "metadata": {},
   "outputs": [
    {
     "ename": "NameError",
     "evalue": "name 'Pipeline' is not defined",
     "output_type": "error",
     "traceback": [
      "\u001b[0;31m---------------------------------------------------------------------------\u001b[0m",
      "\u001b[0;31mNameError\u001b[0m                                 Traceback (most recent call last)",
      "Cell \u001b[0;32mIn[48], line 1\u001b[0m\n\u001b[0;32m----> 1\u001b[0m pipeline \u001b[38;5;241m=\u001b[39m Pipeline([\n\u001b[1;32m      2\u001b[0m     (\u001b[38;5;124m\"\u001b[39m\u001b[38;5;124mstd_scaler\u001b[39m\u001b[38;5;124m\"\u001b[39m, scaler),\n\u001b[1;32m      3\u001b[0m     (\u001b[38;5;124m\"\u001b[39m\u001b[38;5;124mmodel\u001b[39m\u001b[38;5;124m\"\u001b[39m, model)\n\u001b[1;32m      4\u001b[0m ])\n",
      "\u001b[0;31mNameError\u001b[0m: name 'Pipeline' is not defined"
     ]
    }
   ],
   "source": [
    "pipeline = Pipeline([\n",
    "    (\"std_scaler\", scaler),\n",
    "    (\"model\", model)\n",
    "])"
   ]
  },
  {
   "cell_type": "code",
   "execution_count": null,
   "id": "ea60d1c0",
   "metadata": {},
   "outputs": [],
   "source": [
    "y_pred = pipeline.predict(xtest)\n"
   ]
  },
  {
   "cell_type": "code",
   "execution_count": null,
   "id": "c3c0b4a1",
   "metadata": {},
   "outputs": [],
   "source": [
    "mse = mean_squared_error(ytest, y_pred)\n",
    "np.sqrt(mse)"
   ]
  },
  {
   "cell_type": "code",
   "execution_count": 42,
   "id": "dd031f3f",
   "metadata": {},
   "outputs": [
    {
     "name": "stdout",
     "output_type": "stream",
     "text": [
      "[13.6589937  14.07802861 13.93941983 13.93021181 13.55638874 13.8323785\n",
      " 13.70096505 13.62729335 13.75864977 13.61060966]\n"
     ]
    }
   ],
   "source": [
    "svr = SVR()\n",
    "svr.fit(xdata, ytrain)\n",
    "svr_scores = cross_val_score(svr, xdata, ytrain, scoring=\"neg_mean_squared_error\", cv=10)\n",
    "print(np.sqrt(-svr_scores))"
   ]
  },
  {
   "cell_type": "code",
   "execution_count": null,
   "id": "706153e6",
   "metadata": {},
   "outputs": [],
   "source": []
  }
 ],
 "metadata": {
  "kernelspec": {
   "display_name": "Python 3 (ipykernel)",
   "language": "python",
   "name": "python3"
  },
  "language_info": {
   "codemirror_mode": {
    "name": "ipython",
    "version": 3
   },
   "file_extension": ".py",
   "mimetype": "text/x-python",
   "name": "python",
   "nbconvert_exporter": "python",
   "pygments_lexer": "ipython3",
   "version": "3.11.3"
  }
 },
 "nbformat": 4,
 "nbformat_minor": 5
}
